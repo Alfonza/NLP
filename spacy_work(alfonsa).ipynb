{
 "cells": [
  {
   "cell_type": "code",
   "execution_count": 1,
   "metadata": {},
   "outputs": [],
   "source": [
    "import spacy\n",
    "\n",
    "nlp=spacy.load(\"en_core_web_sm\")\n",
    "\n",
    "data=nlp(\"When you look into your mother's eyes, you know that is the purest love you can find on this earth.\")"
   ]
  },
  {
   "cell_type": "markdown",
   "metadata": {},
   "source": [
    "# Matching patterns"
   ]
  },
  {
   "cell_type": "code",
   "execution_count": 2,
   "metadata": {},
   "outputs": [
    {
     "data": {
      "text/plain": [
       "[(125140298697823262, 14, 16)]"
      ]
     },
     "execution_count": 2,
     "metadata": {},
     "output_type": "execute_result"
    }
   ],
   "source": [
    "from spacy.matcher import Matcher\n",
    "matcher=Matcher(nlp.vocab)\n",
    "\n",
    "pattern=[{\"TEXT\":\"purest\"},{\"TEXT\":\"love\"}]\n",
    "matcher.add(\"parent\",None,pattern)\n",
    "\n",
    "matches=matcher(data)\n",
    "matches"
   ]
  },
  {
   "cell_type": "code",
   "execution_count": 3,
   "metadata": {},
   "outputs": [
    {
     "data": {
      "text/plain": [
       "purest love"
      ]
     },
     "execution_count": 3,
     "metadata": {},
     "output_type": "execute_result"
    }
   ],
   "source": [
    "data[14:16]\n"
   ]
  },
  {
   "cell_type": "markdown",
   "metadata": {},
   "source": [
    "# Data Structures:\n",
    "## Vocab,Lexemes and StringStore"
   ]
  },
  {
   "cell_type": "markdown",
   "metadata": {},
   "source": [
    "### Shared vocab and string store"
   ]
  },
  {
   "cell_type": "code",
   "execution_count": 4,
   "metadata": {},
   "outputs": [
    {
     "name": "stdout",
     "output_type": "stream",
     "text": [
      "hash value: 3702023516439754181\n",
      "string value: love\n"
     ]
    }
   ],
   "source": [
    "love_hash=data.vocab.strings[\"love\"]  #nlp.vocab.string[\"love\"]\n",
    "print(\"hash value:\",love_hash)\n",
    "\n",
    "\n",
    "love_string=data.vocab.strings[love_hash]\n",
    "print(\"string value:\",love_string)"
   ]
  },
  {
   "cell_type": "markdown",
   "metadata": {},
   "source": [
    "### Lexemes"
   ]
  },
  {
   "cell_type": "code",
   "execution_count": 5,
   "metadata": {},
   "outputs": [
    {
     "name": "stdout",
     "output_type": "stream",
     "text": [
      "love 3702023516439754181 True\n"
     ]
    }
   ],
   "source": [
    "lexem=data.vocab[\"love\"]  #nlp.vocab[\"love\"]\n",
    "print(lexem.text,lexem.orth,lexem.is_alpha)  #lexem.orth=hash value"
   ]
  },
  {
   "cell_type": "markdown",
   "metadata": {},
   "source": [
    "## Doc,Span and Token"
   ]
  },
  {
   "cell_type": "code",
   "execution_count": 6,
   "metadata": {},
   "outputs": [
    {
     "data": {
      "text/plain": [
       "eye love earth "
      ]
     },
     "execution_count": 6,
     "metadata": {},
     "output_type": "execute_result"
    }
   ],
   "source": [
    "from spacy.tokens import Doc\n",
    "words=[\"eye\",\"love\",\"earth\"]\n",
    "spaces=[\"True\",\"False\",\"False\"]\n",
    "\n",
    "doc=Doc(data.vocab,words=words,spaces=spaces)\n",
    "doc"
   ]
  },
  {
   "cell_type": "code",
   "execution_count": 7,
   "metadata": {},
   "outputs": [
    {
     "data": {
      "text/plain": [
       "eye love"
      ]
     },
     "execution_count": 7,
     "metadata": {},
     "output_type": "execute_result"
    }
   ],
   "source": [
    "from spacy.tokens import Span\n",
    "span=Span(doc,0,2)\n",
    "#add label with span data\n",
    "span_label=Span(doc,0,2, label=\"parents_love\")\n",
    "span_label"
   ]
  },
  {
   "cell_type": "markdown",
   "metadata": {},
   "source": [
    "# Combining models and rules\n",
    "\n",
    "## PhraseMatcher"
   ]
  },
  {
   "cell_type": "code",
   "execution_count": 8,
   "metadata": {},
   "outputs": [
    {
     "data": {
      "text/plain": [
       "[(3702023516439754181, 14, 16)]"
      ]
     },
     "execution_count": 8,
     "metadata": {},
     "output_type": "execute_result"
    }
   ],
   "source": [
    "from spacy.matcher import PhraseMatcher\n",
    "pmatcher=PhraseMatcher(nlp.vocab)\n",
    "pattern2=nlp(\"purest love\")\n",
    "pmatcher.add(\"love\",None,pattern2)\n",
    "phrase_matcher=pmatcher(data)\n",
    "phrase_matcher\n"
   ]
  },
  {
   "cell_type": "code",
   "execution_count": 9,
   "metadata": {},
   "outputs": [
    {
     "data": {
      "text/plain": [
       "purest love"
      ]
     },
     "execution_count": 9,
     "metadata": {},
     "output_type": "execute_result"
    }
   ],
   "source": [
    "data[14:16]"
   ]
  },
  {
   "cell_type": "markdown",
   "metadata": {},
   "source": [
    "# Processing pipelines"
   ]
  },
  {
   "cell_type": "code",
   "execution_count": 10,
   "metadata": {},
   "outputs": [
    {
     "name": "stdout",
     "output_type": "stream",
     "text": [
      "['tagger', 'parser', 'ner']\n",
      "[('tagger', <spacy.pipeline.pipes.Tagger object at 0x000001F8A87F8208>), ('parser', <spacy.pipeline.pipes.DependencyParser object at 0x000001F8A86D8CA8>), ('ner', <spacy.pipeline.pipes.EntityRecognizer object at 0x000001F8A86D8D68>)]\n"
     ]
    }
   ],
   "source": [
    "print(nlp.pipe_names)\n",
    "print(nlp.pipeline)"
   ]
  },
  {
   "cell_type": "markdown",
   "metadata": {},
   "source": [
    "# Custom pipeline components"
   ]
  },
  {
   "cell_type": "code",
   "execution_count": 11,
   "metadata": {},
   "outputs": [
    {
     "name": "stdout",
     "output_type": "stream",
     "text": [
      "Document length: 4\n"
     ]
    },
    {
     "data": {
      "text/plain": [
       "i love my parents"
      ]
     },
     "execution_count": 11,
     "metadata": {},
     "output_type": "execute_result"
    }
   ],
   "source": [
    "def custom_components(doc):\n",
    "    print(\"Document length:\",len(doc))\n",
    "    return doc\n",
    "\n",
    "nlp.add_pipe(custom_components,first=True)\n",
    "nlp(\"i love my parents\")\n",
    "#print(\"pipeline:\",nlp.pipe_names)"
   ]
  },
  {
   "cell_type": "code",
   "execution_count": 12,
   "metadata": {},
   "outputs": [
    {
     "name": "stdout",
     "output_type": "stream",
     "text": [
      "pipeline: ['custom_components', 'tagger', 'parser', 'ner']\n"
     ]
    }
   ],
   "source": [
    "print(\"pipeline:\",nlp.pipe_names)"
   ]
  },
  {
   "cell_type": "markdown",
   "metadata": {},
   "source": [
    "# Extension attributes"
   ]
  },
  {
   "cell_type": "markdown",
   "metadata": {},
   "source": [
    "## Attribute extension"
   ]
  },
  {
   "cell_type": "code",
   "execution_count": 13,
   "metadata": {},
   "outputs": [
    {
     "name": "stdout",
     "output_type": "stream",
     "text": [
      "False mother\n"
     ]
    }
   ],
   "source": [
    "from spacy.tokens import Token\n",
    "Token.set_extension(\"is_color\",default=False)\n",
    "print(data[5]._.is_color,data[5].text)"
   ]
  },
  {
   "cell_type": "markdown",
   "metadata": {},
   "source": [
    "## Property extension"
   ]
  },
  {
   "cell_type": "code",
   "execution_count": 15,
   "metadata": {},
   "outputs": [
    {
     "name": "stdout",
     "output_type": "stream",
     "text": [
      "False - mother\n"
     ]
    }
   ],
   "source": [
    "def get_is_color(token):\n",
    "    color=[\"red\",\"Yellow\",\"blue\"]\n",
    "    return token.text in color\n",
    "\n",
    "Token.set_extension(\"is_color\", getter=get_is_color,force=True)\n",
    "print(data[5]._.is_color,\"-\",data[5].text)"
   ]
  },
  {
   "cell_type": "markdown",
   "metadata": {},
   "source": [
    "## Method extension"
   ]
  },
  {
   "cell_type": "code",
   "execution_count": 16,
   "metadata": {},
   "outputs": [
    {
     "name": "stdout",
     "output_type": "stream",
     "text": [
      "Document length: 4\n",
      "False - blue\n"
     ]
    }
   ],
   "source": [
    "def has_token(data2,token_text):\n",
    "    in_doc=token_text in[token.text for token in doc]\n",
    "    return in_doc\n",
    "\n",
    "Doc.set_extension(\"has_token\",method=has_token,force=True)\n",
    "data2=nlp(\"the sky is blue\")\n",
    "print(data2._.has_token(\"blue\"),\"- blue\")"
   ]
  },
  {
   "cell_type": "markdown",
   "metadata": {},
   "source": [
    "# Scaling and performance"
   ]
  },
  {
   "cell_type": "code",
   "execution_count": 17,
   "metadata": {},
   "outputs": [
    {
     "name": "stdout",
     "output_type": "stream",
     "text": [
      "Document length: 4\n",
      "Document length: 6\n",
      "i love my parents 20\n",
      "and i always stay with them 30\n"
     ]
    }
   ],
   "source": [
    "data=[(\"i love my parents\",{\"id\":1,\"page_num\":20}),(\"and i always stay with them\",{\"id\":2,\"page_num\":30})]\n",
    "for doc,context in nlp.pipe(data,as_tuples=True):\n",
    "    print(doc.text,context[\"page_num\"])"
   ]
  },
  {
   "cell_type": "code",
   "execution_count": 18,
   "metadata": {},
   "outputs": [
    {
     "data": {
      "text/plain": [
       "hello world"
      ]
     },
     "execution_count": 18,
     "metadata": {},
     "output_type": "execute_result"
    }
   ],
   "source": [
    "doc=nlp.make_doc(\"hello world\")\n",
    "doc"
   ]
  },
  {
   "cell_type": "code",
   "execution_count": 19,
   "metadata": {},
   "outputs": [
    {
     "name": "stdout",
     "output_type": "stream",
     "text": [
      "Document length: 3\n"
     ]
    }
   ],
   "source": [
    "with nlp.disable_pipes(\"tagger\",\"parser\"):  #disable unwanted pipelines\n",
    "    doc=nlp(\"when you look\")\n",
    "    #print(doc.ents)"
   ]
  },
  {
   "cell_type": "markdown",
   "metadata": {},
   "source": [
    "# Best Practice\n",
    "\n",
    "## Overfitting leads to forgetting data\n",
    "* avoid bias in training data\n",
    "\n",
    "## Local context may not be enough to make decision\n",
    "* make consistent and not too specific label scheme\n",
    "* plan schemes carefully"
   ]
  },
  {
   "cell_type": "code",
   "execution_count": null,
   "metadata": {},
   "outputs": [],
   "source": [
    " "
   ]
  }
 ],
 "metadata": {
  "kernelspec": {
   "display_name": "Python 3",
   "language": "python",
   "name": "python3"
  },
  "language_info": {
   "codemirror_mode": {
    "name": "ipython",
    "version": 3
   },
   "file_extension": ".py",
   "mimetype": "text/x-python",
   "name": "python",
   "nbconvert_exporter": "python",
   "pygments_lexer": "ipython3",
   "version": "3.7.4"
  }
 },
 "nbformat": 4,
 "nbformat_minor": 2
}
